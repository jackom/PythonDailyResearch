{
 "cells": [
  {
   "cell_type": "code",
   "execution_count": 79,
   "metadata": {
    "collapsed": true
   },
   "outputs": [],
   "source": [
    "import pandas as pd\n",
    "import numpy as np\n",
    "import matplotlib.pyplot as plt\n",
    "import progressbar"
   ]
  },
  {
   "cell_type": "code",
   "execution_count": 80,
   "metadata": {
    "tags": []
   },
   "outputs": [
    {
     "output_type": "stream",
     "name": "stderr",
     "text": [
      "[                                                                        ] N/A%"
     ]
    },
    {
     "output_type": "execute_result",
     "data": {
      "text/plain": [
       "<progressbar.bar.ProgressBar at 0x24765832088>"
      ]
     },
     "metadata": {},
     "execution_count": 80
    }
   ],
   "source": [
    "cnter = 0\n",
    "n_users = 99\n",
    "bar = progressbar.ProgressBar(maxval=n_users+1, widgets=[progressbar.Bar('=', '[', ']'), ' ', progressbar.Percentage()])\n",
    "bar.start()"
   ]
  },
  {
   "cell_type": "code",
   "execution_count": 81,
   "outputs": [],
   "source": [
    "df = pd.DataFrame({\n",
    "    \"A\": [1, 3] * 3,\n",
    "    \"B\": ['a', 'b', np.nan, 'd', 'f', 20],\n",
    "    \"C\": [np.nan, 10, np.nan, 14, 35, 'c'],\n",
    "    \"D\": [12, 10, 2, 14, 35, 'c'],\n",
    "    \"E\": [2, 45, 68, np.nan, 35, np.nan]\n",
    "})"
   ],
   "metadata": {
    "collapsed": false,
    "pycharm": {
     "name": "#%%\n"
    }
   }
  },
  {
   "cell_type": "code",
   "execution_count": 82,
   "outputs": [
    {
     "output_type": "execute_result",
     "data": {
      "text/plain": [
       "   A    B    C   D     E\n",
       "0  1    a  NaN  12   2.0\n",
       "1  3    b   10  10  45.0\n",
       "2  1  NaN  NaN   2  68.0\n",
       "3  3    d   14  14   NaN\n",
       "4  1    f   35  35  35.0\n",
       "5  3   20    c   c   NaN"
      ],
      "text/html": "<div>\n<style scoped>\n    .dataframe tbody tr th:only-of-type {\n        vertical-align: middle;\n    }\n\n    .dataframe tbody tr th {\n        vertical-align: top;\n    }\n\n    .dataframe thead th {\n        text-align: right;\n    }\n</style>\n<table border=\"1\" class=\"dataframe\">\n  <thead>\n    <tr style=\"text-align: right;\">\n      <th></th>\n      <th>A</th>\n      <th>B</th>\n      <th>C</th>\n      <th>D</th>\n      <th>E</th>\n    </tr>\n  </thead>\n  <tbody>\n    <tr>\n      <td>0</td>\n      <td>1</td>\n      <td>a</td>\n      <td>NaN</td>\n      <td>12</td>\n      <td>2.0</td>\n    </tr>\n    <tr>\n      <td>1</td>\n      <td>3</td>\n      <td>b</td>\n      <td>10</td>\n      <td>10</td>\n      <td>45.0</td>\n    </tr>\n    <tr>\n      <td>2</td>\n      <td>1</td>\n      <td>NaN</td>\n      <td>NaN</td>\n      <td>2</td>\n      <td>68.0</td>\n    </tr>\n    <tr>\n      <td>3</td>\n      <td>3</td>\n      <td>d</td>\n      <td>14</td>\n      <td>14</td>\n      <td>NaN</td>\n    </tr>\n    <tr>\n      <td>4</td>\n      <td>1</td>\n      <td>f</td>\n      <td>35</td>\n      <td>35</td>\n      <td>35.0</td>\n    </tr>\n    <tr>\n      <td>5</td>\n      <td>3</td>\n      <td>20</td>\n      <td>c</td>\n      <td>c</td>\n      <td>NaN</td>\n    </tr>\n  </tbody>\n</table>\n</div>"
     },
     "metadata": {},
     "execution_count": 82
    }
   ],
   "source": [
    "df"
   ],
   "metadata": {
    "collapsed": false,
    "pycharm": {
     "name": "#%%\n"
    }
   }
  },
  {
   "cell_type": "code",
   "execution_count": 83,
   "metadata": {},
   "outputs": [
    {
     "output_type": "execute_result",
     "data": {
      "text/plain": [
       "A     1    3\n",
       "B           \n",
       "20  NaN  1.0\n",
       "a   1.0  NaN\n",
       "b   NaN  1.0\n",
       "d   NaN  1.0\n",
       "f   1.0  NaN"
      ],
      "text/html": "<div>\n<style scoped>\n    .dataframe tbody tr th:only-of-type {\n        vertical-align: middle;\n    }\n\n    .dataframe tbody tr th {\n        vertical-align: top;\n    }\n\n    .dataframe thead th {\n        text-align: right;\n    }\n</style>\n<table border=\"1\" class=\"dataframe\">\n  <thead>\n    <tr style=\"text-align: right;\">\n      <th>A</th>\n      <th>1</th>\n      <th>3</th>\n    </tr>\n    <tr>\n      <th>B</th>\n      <th></th>\n      <th></th>\n    </tr>\n  </thead>\n  <tbody>\n    <tr>\n      <td>20</td>\n      <td>NaN</td>\n      <td>1.0</td>\n    </tr>\n    <tr>\n      <td>a</td>\n      <td>1.0</td>\n      <td>NaN</td>\n    </tr>\n    <tr>\n      <td>b</td>\n      <td>NaN</td>\n      <td>1.0</td>\n    </tr>\n    <tr>\n      <td>d</td>\n      <td>NaN</td>\n      <td>1.0</td>\n    </tr>\n    <tr>\n      <td>f</td>\n      <td>1.0</td>\n      <td>NaN</td>\n    </tr>\n  </tbody>\n</table>\n</div>"
     },
     "metadata": {},
     "execution_count": 83
    }
   ],
   "source": [
    "df.groupby(['B'])['A'].value_counts().unstack()"
   ]
  },
  {
   "cell_type": "code",
   "execution_count": 84,
   "outputs": [
    {
     "output_type": "execute_result",
     "data": {
      "text/plain": [
       "        C   D\n",
       "A B          \n",
       "1 a   NaN  12\n",
       "  f    35  35\n",
       "3 20    c   c\n",
       "  b    10  10\n",
       "  d    14  14"
      ],
      "text/html": "<div>\n<style scoped>\n    .dataframe tbody tr th:only-of-type {\n        vertical-align: middle;\n    }\n\n    .dataframe tbody tr th {\n        vertical-align: top;\n    }\n\n    .dataframe thead th {\n        text-align: right;\n    }\n</style>\n<table border=\"1\" class=\"dataframe\">\n  <thead>\n    <tr style=\"text-align: right;\">\n      <th></th>\n      <th></th>\n      <th>C</th>\n      <th>D</th>\n    </tr>\n    <tr>\n      <th>A</th>\n      <th>B</th>\n      <th></th>\n      <th></th>\n    </tr>\n  </thead>\n  <tbody>\n    <tr>\n      <td rowspan=\"2\" valign=\"top\">1</td>\n      <td>a</td>\n      <td>NaN</td>\n      <td>12</td>\n    </tr>\n    <tr>\n      <td>f</td>\n      <td>35</td>\n      <td>35</td>\n    </tr>\n    <tr>\n      <td rowspan=\"3\" valign=\"top\">3</td>\n      <td>20</td>\n      <td>c</td>\n      <td>c</td>\n    </tr>\n    <tr>\n      <td>b</td>\n      <td>10</td>\n      <td>10</td>\n    </tr>\n    <tr>\n      <td>d</td>\n      <td>14</td>\n      <td>14</td>\n    </tr>\n  </tbody>\n</table>\n</div>"
     },
     "metadata": {},
     "execution_count": 84
    }
   ],
   "source": [
    "df.groupby(by=['A', 'B'])['C', 'D'].max()"
   ],
   "metadata": {
    "collapsed": false,
    "pycharm": {
     "name": "#%%\n"
    }
   }
  },
  {
   "cell_type": "code",
   "execution_count": 85,
   "outputs": [
    {
     "output_type": "execute_result",
     "data": {
      "text/plain": [
       "B   20    a    b    d    f\n",
       "A                         \n",
       "1  NaN  NaN  NaN  NaN   35\n",
       "3    c  NaN   10   14  NaN"
      ],
      "text/html": "<div>\n<style scoped>\n    .dataframe tbody tr th:only-of-type {\n        vertical-align: middle;\n    }\n\n    .dataframe tbody tr th {\n        vertical-align: top;\n    }\n\n    .dataframe thead th {\n        text-align: right;\n    }\n</style>\n<table border=\"1\" class=\"dataframe\">\n  <thead>\n    <tr style=\"text-align: right;\">\n      <th>B</th>\n      <th>20</th>\n      <th>a</th>\n      <th>b</th>\n      <th>d</th>\n      <th>f</th>\n    </tr>\n    <tr>\n      <th>A</th>\n      <th></th>\n      <th></th>\n      <th></th>\n      <th></th>\n      <th></th>\n    </tr>\n  </thead>\n  <tbody>\n    <tr>\n      <td>1</td>\n      <td>NaN</td>\n      <td>NaN</td>\n      <td>NaN</td>\n      <td>NaN</td>\n      <td>35</td>\n    </tr>\n    <tr>\n      <td>3</td>\n      <td>c</td>\n      <td>NaN</td>\n      <td>10</td>\n      <td>14</td>\n      <td>NaN</td>\n    </tr>\n  </tbody>\n</table>\n</div>"
     },
     "metadata": {},
     "execution_count": 85
    }
   ],
   "source": [
    "\n",
    "df.groupby(by=['A', 'B'])['C'].max().unstack()"
   ],
   "metadata": {
    "collapsed": false,
    "pycharm": {
     "name": "#%%\n"
    }
   }
  },
  {
   "cell_type": "code",
   "execution_count": 86,
   "metadata": {},
   "outputs": [
    {
     "output_type": "execute_result",
     "data": {
      "text/plain": [
       "     C                        D                    \n",
       "B   20    a    b    d    f   20    a    b    d    f\n",
       "A                                                  \n",
       "1  NaN  NaN  NaN  NaN   35  NaN   12  NaN  NaN   35\n",
       "3    c  NaN   10   14  NaN    c  NaN   10   14  NaN"
      ],
      "text/html": "<div>\n<style scoped>\n    .dataframe tbody tr th:only-of-type {\n        vertical-align: middle;\n    }\n\n    .dataframe tbody tr th {\n        vertical-align: top;\n    }\n\n    .dataframe thead tr th {\n        text-align: left;\n    }\n\n    .dataframe thead tr:last-of-type th {\n        text-align: right;\n    }\n</style>\n<table border=\"1\" class=\"dataframe\">\n  <thead>\n    <tr>\n      <th></th>\n      <th colspan=\"5\" halign=\"left\">C</th>\n      <th colspan=\"5\" halign=\"left\">D</th>\n    </tr>\n    <tr>\n      <th>B</th>\n      <th>20</th>\n      <th>a</th>\n      <th>b</th>\n      <th>d</th>\n      <th>f</th>\n      <th>20</th>\n      <th>a</th>\n      <th>b</th>\n      <th>d</th>\n      <th>f</th>\n    </tr>\n    <tr>\n      <th>A</th>\n      <th></th>\n      <th></th>\n      <th></th>\n      <th></th>\n      <th></th>\n      <th></th>\n      <th></th>\n      <th></th>\n      <th></th>\n      <th></th>\n    </tr>\n  </thead>\n  <tbody>\n    <tr>\n      <td>1</td>\n      <td>NaN</td>\n      <td>NaN</td>\n      <td>NaN</td>\n      <td>NaN</td>\n      <td>35</td>\n      <td>NaN</td>\n      <td>12</td>\n      <td>NaN</td>\n      <td>NaN</td>\n      <td>35</td>\n    </tr>\n    <tr>\n      <td>3</td>\n      <td>c</td>\n      <td>NaN</td>\n      <td>10</td>\n      <td>14</td>\n      <td>NaN</td>\n      <td>c</td>\n      <td>NaN</td>\n      <td>10</td>\n      <td>14</td>\n      <td>NaN</td>\n    </tr>\n  </tbody>\n</table>\n</div>"
     },
     "metadata": {},
     "execution_count": 86
    }
   ],
   "source": [
    "df.groupby(by=['A', 'B'])['C', 'D'].max().unstack()"
   ]
  },
  {
   "cell_type": "code",
   "execution_count": 87,
   "metadata": {},
   "outputs": [
    {
     "output_type": "execute_result",
     "data": {
      "text/plain": [
       "     C                   D                    \n",
       "B   20    b    d    f   20    a    b    d    f\n",
       "A                                             \n",
       "1  NaN  NaN  NaN   35  NaN   12  NaN  NaN   35\n",
       "3    c   10   14  NaN    c  NaN   10   14  NaN"
      ],
      "text/html": "<div>\n<style scoped>\n    .dataframe tbody tr th:only-of-type {\n        vertical-align: middle;\n    }\n\n    .dataframe tbody tr th {\n        vertical-align: top;\n    }\n\n    .dataframe thead tr th {\n        text-align: left;\n    }\n\n    .dataframe thead tr:last-of-type th {\n        text-align: right;\n    }\n</style>\n<table border=\"1\" class=\"dataframe\">\n  <thead>\n    <tr>\n      <th></th>\n      <th colspan=\"4\" halign=\"left\">C</th>\n      <th colspan=\"5\" halign=\"left\">D</th>\n    </tr>\n    <tr>\n      <th>B</th>\n      <th>20</th>\n      <th>b</th>\n      <th>d</th>\n      <th>f</th>\n      <th>20</th>\n      <th>a</th>\n      <th>b</th>\n      <th>d</th>\n      <th>f</th>\n    </tr>\n    <tr>\n      <th>A</th>\n      <th></th>\n      <th></th>\n      <th></th>\n      <th></th>\n      <th></th>\n      <th></th>\n      <th></th>\n      <th></th>\n      <th></th>\n    </tr>\n  </thead>\n  <tbody>\n    <tr>\n      <td>1</td>\n      <td>NaN</td>\n      <td>NaN</td>\n      <td>NaN</td>\n      <td>35</td>\n      <td>NaN</td>\n      <td>12</td>\n      <td>NaN</td>\n      <td>NaN</td>\n      <td>35</td>\n    </tr>\n    <tr>\n      <td>3</td>\n      <td>c</td>\n      <td>10</td>\n      <td>14</td>\n      <td>NaN</td>\n      <td>c</td>\n      <td>NaN</td>\n      <td>10</td>\n      <td>14</td>\n      <td>NaN</td>\n    </tr>\n  </tbody>\n</table>\n</div>"
     },
     "metadata": {},
     "execution_count": 87
    }
   ],
   "source": [
    "df.pivot_table(values=['C', 'D'], index=['A'], columns=['B'], aggfunc=np.max)"
   ]
  },
  {
   "cell_type": "code",
   "execution_count": 88,
   "metadata": {
    "tags": []
   },
   "outputs": [],
   "source": [
    "cnter+=1 \n",
    "bar.update(cnter)"
   ]
  },
  {
   "cell_type": "code",
   "execution_count": 89,
   "metadata": {},
   "outputs": [],
   "source": [
    "A = np.array([10,4,6,7,1,5,3,24,9,10,18])\n",
    "B = np.array([1,8,8,9])"
   ]
  },
  {
   "cell_type": "code",
   "execution_count": 90,
   "metadata": {},
   "outputs": [
    {
     "output_type": "execute_result",
     "data": {
      "text/plain": [
       "array([1, 9])"
      ]
     },
     "metadata": {},
     "execution_count": 90
    }
   ],
   "source": [
    "A[np.in1d(A, B)]"
   ]
  },
  {
   "cell_type": "code",
   "execution_count": 91,
   "metadata": {},
   "outputs": [
    {
     "output_type": "execute_result",
     "data": {
      "text/plain": [
       "array([1, 9])"
      ]
     },
     "metadata": {},
     "execution_count": 91
    }
   ],
   "source": [
    "np.intersect1d(A, B)"
   ]
  },
  {
   "cell_type": "code",
   "execution_count": 92,
   "metadata": {},
   "outputs": [
    {
     "output_type": "execute_result",
     "data": {
      "text/plain": [
       "array([ 1,  8,  9, 10])"
      ]
     },
     "metadata": {},
     "execution_count": 92
    }
   ],
   "source": [
    "np.intersect1d(A, B, assume_unique=True)"
   ]
  },
  {
   "cell_type": "code",
   "execution_count": 93,
   "metadata": {},
   "outputs": [
    {
     "output_type": "execute_result",
     "data": {
      "text/plain": [
       "array([10,  4,  6,  7,  5,  3, 24, 10, 18])"
      ]
     },
     "metadata": {},
     "execution_count": 93
    }
   ],
   "source": [
    "np.setdiff1d(A, B, assume_unique=True)"
   ]
  },
  {
   "cell_type": "code",
   "execution_count": 94,
   "metadata": {
    "tags": []
   },
   "outputs": [
    {
     "output_type": "stream",
     "name": "stderr",
     "text": [
      "[=                                                                       ]   2%"
     ]
    }
   ],
   "source": [
    "cnter+=1 \n",
    "bar.update(cnter)"
   ]
  },
  {
   "cell_type": "code",
   "execution_count": 95,
   "metadata": {},
   "outputs": [
    {
     "output_type": "execute_result",
     "data": {
      "text/plain": [
       "['Documentary', 'Short']"
      ]
     },
     "metadata": {},
     "execution_count": 95
    }
   ],
   "source": [
    "s = 'Documentary|Short'\n",
    "s.split('|')"
   ]
  },
  {
   "cell_type": "code",
   "execution_count": 96,
   "metadata": {},
   "outputs": [],
   "source": [
    "s = pd.Series(['a_b_c_f_j', 'c_d_e_f_h', np.nan, 'f_g_h_x_g'])"
   ]
  },
  {
   "cell_type": "code",
   "execution_count": 97,
   "metadata": {},
   "outputs": [
    {
     "output_type": "execute_result",
     "data": {
      "text/plain": [
       "0    a_b_c_f_j\n",
       "1    c_d_e_f_h\n",
       "2          NaN\n",
       "3    f_g_h_x_g\n",
       "dtype: object"
      ]
     },
     "metadata": {},
     "execution_count": 97
    }
   ],
   "source": [
    "s"
   ]
  },
  {
   "cell_type": "code",
   "execution_count": 98,
   "metadata": {},
   "outputs": [
    {
     "output_type": "execute_result",
     "data": {
      "text/plain": [
       "0    [a, b, c, f, j]\n",
       "1    [c, d, e, f, h]\n",
       "2                NaN\n",
       "3    [f, g, h, x, g]\n",
       "dtype: object"
      ]
     },
     "metadata": {},
     "execution_count": 98
    }
   ],
   "source": [
    "s.str.split('_')"
   ]
  },
  {
   "cell_type": "code",
   "execution_count": 99,
   "metadata": {},
   "outputs": [
    {
     "output_type": "execute_result",
     "data": {
      "text/plain": [
       "     0    1    2    3    4\n",
       "0    a    b    c    f    j\n",
       "1    c    d    e    f    h\n",
       "2  NaN  NaN  NaN  NaN  NaN\n",
       "3    f    g    h    x    g"
      ],
      "text/html": "<div>\n<style scoped>\n    .dataframe tbody tr th:only-of-type {\n        vertical-align: middle;\n    }\n\n    .dataframe tbody tr th {\n        vertical-align: top;\n    }\n\n    .dataframe thead th {\n        text-align: right;\n    }\n</style>\n<table border=\"1\" class=\"dataframe\">\n  <thead>\n    <tr style=\"text-align: right;\">\n      <th></th>\n      <th>0</th>\n      <th>1</th>\n      <th>2</th>\n      <th>3</th>\n      <th>4</th>\n    </tr>\n  </thead>\n  <tbody>\n    <tr>\n      <td>0</td>\n      <td>a</td>\n      <td>b</td>\n      <td>c</td>\n      <td>f</td>\n      <td>j</td>\n    </tr>\n    <tr>\n      <td>1</td>\n      <td>c</td>\n      <td>d</td>\n      <td>e</td>\n      <td>f</td>\n      <td>h</td>\n    </tr>\n    <tr>\n      <td>2</td>\n      <td>NaN</td>\n      <td>NaN</td>\n      <td>NaN</td>\n      <td>NaN</td>\n      <td>NaN</td>\n    </tr>\n    <tr>\n      <td>3</td>\n      <td>f</td>\n      <td>g</td>\n      <td>h</td>\n      <td>x</td>\n      <td>g</td>\n    </tr>\n  </tbody>\n</table>\n</div>"
     },
     "metadata": {},
     "execution_count": 99
    }
   ],
   "source": [
    "s.str.split('_', expand=True)"
   ]
  },
  {
   "cell_type": "code",
   "execution_count": 100,
   "metadata": {
    "tags": []
   },
   "outputs": [
    {
     "output_type": "stream",
     "name": "stderr",
     "text": [
      "[==                                                                      ]   3%"
     ]
    }
   ],
   "source": [
    "cnter+=1 \n",
    "bar.update(cnter)"
   ]
  },
  {
   "cell_type": "code",
   "execution_count": 101,
   "metadata": {},
   "outputs": [],
   "source": [
    "a = np.array([2,4,6,8,10])"
   ]
  },
  {
   "cell_type": "code",
   "execution_count": 102,
   "metadata": {},
   "outputs": [
    {
     "output_type": "execute_result",
     "data": {
      "text/plain": [
       "(array([2, 3, 4], dtype=int64),)"
      ]
     },
     "metadata": {},
     "execution_count": 102
    }
   ],
   "source": [
    "np.where(a > 5)"
   ]
  },
  {
   "cell_type": "code",
   "execution_count": 103,
   "metadata": {},
   "outputs": [
    {
     "output_type": "execute_result",
     "data": {
      "text/plain": [
       "array([-1, -1,  1,  1,  1])"
      ]
     },
     "metadata": {},
     "execution_count": 103
    }
   ],
   "source": [
    "np.where(a > 5, 1, -1)"
   ]
  },
  {
   "cell_type": "code",
   "execution_count": 104,
   "metadata": {},
   "outputs": [
    {
     "output_type": "execute_result",
     "data": {
      "text/plain": [
       "array([[2],\n",
       "       [3],\n",
       "       [4]], dtype=int64)"
      ]
     },
     "metadata": {},
     "execution_count": 104
    }
   ],
   "source": [
    "np.argwhere(a > 5)"
   ]
  },
  {
   "cell_type": "code",
   "execution_count": 105,
   "metadata": {},
   "outputs": [
    {
     "output_type": "execute_result",
     "data": {
      "text/plain": [
       "4"
      ]
     },
     "metadata": {},
     "execution_count": 105
    }
   ],
   "source": [
    "np.argmax(a)"
   ]
  },
  {
   "cell_type": "code",
   "execution_count": 106,
   "metadata": {},
   "outputs": [
    {
     "output_type": "execute_result",
     "data": {
      "text/plain": [
       "0"
      ]
     },
     "metadata": {},
     "execution_count": 106
    }
   ],
   "source": [
    "np.argmin(a)"
   ]
  },
  {
   "cell_type": "code",
   "execution_count": 107,
   "metadata": {},
   "outputs": [],
   "source": [
    "s = [75.48556738,   9.67425201]"
   ]
  },
  {
   "cell_type": "code",
   "execution_count": 108,
   "metadata": {},
   "outputs": [
    {
     "output_type": "execute_result",
     "data": {
      "text/plain": [
       "array([[75.48556738,  0.        ],\n",
       "       [ 0.        ,  9.67425201]])"
      ]
     },
     "metadata": {},
     "execution_count": 108
    }
   ],
   "source": [
    "np.diag(s)"
   ]
  },
  {
   "cell_type": "code",
   "execution_count": 109,
   "metadata": {
    "tags": []
   },
   "outputs": [
    {
     "output_type": "stream",
     "name": "stderr",
     "text": [
      "[==                                                                      ]   4%"
     ]
    }
   ],
   "source": [
    "cnter+=1 \n",
    "bar.update(cnter)"
   ]
  },
  {
   "cell_type": "code",
   "execution_count": 110,
   "metadata": {},
   "outputs": [
    {
     "output_type": "execute_result",
     "data": {
      "text/plain": [
       "array([nan, 10, nan, 14, 35, 'c'], dtype=object)"
      ]
     },
     "metadata": {},
     "execution_count": 110
    }
   ],
   "source": [
    "np.array(df['C'])"
   ]
  },
  {
   "cell_type": "code",
   "execution_count": 111,
   "metadata": {
    "tags": []
   },
   "outputs": [
    {
     "output_type": "execute_result",
     "data": {
      "text/plain": [
       "4"
      ]
     },
     "metadata": {},
     "execution_count": 111
    }
   ],
   "source": [
    "np.count_nonzero(~np.isnan(np.array(df['E'])))"
   ]
  },
  {
   "cell_type": "code",
   "execution_count": 112,
   "metadata": {},
   "outputs": [],
   "source": [
    "cnter+=1 \n",
    "bar.update(cnter)"
   ]
  },
  {
   "cell_type": "code",
   "execution_count": 113,
   "metadata": {},
   "outputs": [],
   "source": [
    "a = np.array([[1,3,6],[9,5,6],[2,2,3]])"
   ]
  },
  {
   "cell_type": "code",
   "execution_count": 114,
   "metadata": {},
   "outputs": [
    {
     "output_type": "execute_result",
     "data": {
      "text/plain": [
       "array([[1, 3, 6],\n",
       "       [9, 5, 6],\n",
       "       [2, 2, 3]])"
      ]
     },
     "metadata": {},
     "execution_count": 114
    }
   ],
   "source": [
    "a"
   ]
  },
  {
   "cell_type": "code",
   "execution_count": 115,
   "metadata": {},
   "outputs": [
    {
     "output_type": "execute_result",
     "data": {
      "text/plain": [
       "matrix([[1, 3, 6],\n",
       "        [9, 5, 6],\n",
       "        [2, 2, 3]])"
      ]
     },
     "metadata": {},
     "execution_count": 115
    }
   ],
   "source": [
    "np.matrix(a)"
   ]
  },
  {
   "cell_type": "code",
   "execution_count": 116,
   "metadata": {},
   "outputs": [
    {
     "output_type": "execute_result",
     "data": {
      "text/plain": [
       "array([[0, 1, 2],\n",
       "       [1, 2, 0],\n",
       "       [0, 1, 2]], dtype=int64)"
      ]
     },
     "metadata": {},
     "execution_count": 116
    }
   ],
   "source": [
    "a.argsort()"
   ]
  },
  {
   "cell_type": "code",
   "execution_count": 117,
   "metadata": {},
   "outputs": [
    {
     "output_type": "execute_result",
     "data": {
      "text/plain": [
       "array([[0, 2, 2],\n",
       "       [2, 0, 0],\n",
       "       [1, 1, 1]], dtype=int64)"
      ]
     },
     "metadata": {},
     "execution_count": 117
    }
   ],
   "source": [
    "a.argsort(axis=0)"
   ]
  },
  {
   "cell_type": "code",
   "execution_count": 118,
   "metadata": {},
   "outputs": [],
   "source": [
    "b = [1, 3, 6, 9, 5, 6, 2, 2, 3]"
   ]
  },
  {
   "cell_type": "code",
   "execution_count": 119,
   "metadata": {},
   "outputs": [
    {
     "output_type": "execute_result",
     "data": {
      "text/plain": [
       "array([0, 6, 7, 1, 8, 4, 2, 5, 3], dtype=int64)"
      ]
     },
     "metadata": {},
     "execution_count": 119
    }
   ],
   "source": [
    "np.argsort(b)"
   ]
  },
  {
   "cell_type": "code",
   "execution_count": 120,
   "metadata": {},
   "outputs": [
    {
     "output_type": "execute_result",
     "data": {
      "text/plain": [
       "array([3, 5, 2, 4, 8, 1, 7, 6, 0], dtype=int64)"
      ]
     },
     "metadata": {},
     "execution_count": 120
    }
   ],
   "source": [
    "np.argsort(b)[::-1]"
   ]
  },
  {
   "cell_type": "code",
   "execution_count": 121,
   "metadata": {
    "tags": []
   },
   "outputs": [
    {
     "output_type": "stream",
     "name": "stderr",
     "text": [
      "[====                                                                    ]   6%"
     ]
    }
   ],
   "source": [
    "cnter+=1 \n",
    "bar.update(cnter)"
   ]
  },
  {
   "cell_type": "code",
   "execution_count": 122,
   "metadata": {},
   "outputs": [],
   "source": [
    "first = pd.DataFrame({'item_id':['a','b','c','b','d'],'item_price':[1,2,3,2,4]})\n",
    "second = pd.DataFrame({'item_id':['a','b','f'],'item_atr':['k1','k2','k3']})"
   ]
  },
  {
   "cell_type": "code",
   "execution_count": 123,
   "metadata": {},
   "outputs": [
    {
     "output_type": "execute_result",
     "data": {
      "text/plain": [
       "(  item_id  item_price\n",
       " 0       a           1\n",
       " 1       b           2\n",
       " 2       c           3\n",
       " 3       b           2\n",
       " 4       d           4,   item_id item_atr\n",
       " 0       a       k1\n",
       " 1       b       k2\n",
       " 2       f       k3)"
      ]
     },
     "metadata": {},
     "execution_count": 123
    }
   ],
   "source": [
    "first, second"
   ]
  },
  {
   "cell_type": "code",
   "execution_count": 124,
   "metadata": {},
   "outputs": [
    {
     "output_type": "execute_result",
     "data": {
      "text/plain": [
       "  item_id  item_price item_atr\n",
       "0       a           1       k1\n",
       "1       b           2       k2\n",
       "2       b           2       k2"
      ],
      "text/html": "<div>\n<style scoped>\n    .dataframe tbody tr th:only-of-type {\n        vertical-align: middle;\n    }\n\n    .dataframe tbody tr th {\n        vertical-align: top;\n    }\n\n    .dataframe thead th {\n        text-align: right;\n    }\n</style>\n<table border=\"1\" class=\"dataframe\">\n  <thead>\n    <tr style=\"text-align: right;\">\n      <th></th>\n      <th>item_id</th>\n      <th>item_price</th>\n      <th>item_atr</th>\n    </tr>\n  </thead>\n  <tbody>\n    <tr>\n      <td>0</td>\n      <td>a</td>\n      <td>1</td>\n      <td>k1</td>\n    </tr>\n    <tr>\n      <td>1</td>\n      <td>b</td>\n      <td>2</td>\n      <td>k2</td>\n    </tr>\n    <tr>\n      <td>2</td>\n      <td>b</td>\n      <td>2</td>\n      <td>k2</td>\n    </tr>\n  </tbody>\n</table>\n</div>"
     },
     "metadata": {},
     "execution_count": 124
    }
   ],
   "source": [
    "first.merge(second, on=['item_id'])"
   ]
  },
  {
   "cell_type": "code",
   "execution_count": 125,
   "metadata": {},
   "outputs": [
    {
     "output_type": "execute_result",
     "data": {
      "text/plain": [
       "  item_id  item_price item_atr _merge\n",
       "0       a           1       k1   both\n",
       "1       b           2       k2   both\n",
       "2       b           2       k2   both"
      ],
      "text/html": "<div>\n<style scoped>\n    .dataframe tbody tr th:only-of-type {\n        vertical-align: middle;\n    }\n\n    .dataframe tbody tr th {\n        vertical-align: top;\n    }\n\n    .dataframe thead th {\n        text-align: right;\n    }\n</style>\n<table border=\"1\" class=\"dataframe\">\n  <thead>\n    <tr style=\"text-align: right;\">\n      <th></th>\n      <th>item_id</th>\n      <th>item_price</th>\n      <th>item_atr</th>\n      <th>_merge</th>\n    </tr>\n  </thead>\n  <tbody>\n    <tr>\n      <td>0</td>\n      <td>a</td>\n      <td>1</td>\n      <td>k1</td>\n      <td>both</td>\n    </tr>\n    <tr>\n      <td>1</td>\n      <td>b</td>\n      <td>2</td>\n      <td>k2</td>\n      <td>both</td>\n    </tr>\n    <tr>\n      <td>2</td>\n      <td>b</td>\n      <td>2</td>\n      <td>k2</td>\n      <td>both</td>\n    </tr>\n  </tbody>\n</table>\n</div>"
     },
     "metadata": {},
     "execution_count": 125
    }
   ],
   "source": [
    "first.merge(second, on=['item_id'], indicator=True)"
   ]
  },
  {
   "cell_type": "code",
   "execution_count": 126,
   "metadata": {},
   "outputs": [
    {
     "output_type": "execute_result",
     "data": {
      "text/plain": [
       "  item_atr item_id  item_price\n",
       "0      NaN       a         1.0\n",
       "1      NaN       b         2.0\n",
       "2      NaN       c         3.0\n",
       "3      NaN       b         2.0\n",
       "4      NaN       d         4.0\n",
       "0       k1       a         NaN\n",
       "1       k2       b         NaN\n",
       "2       k3       f         NaN"
      ],
      "text/html": "<div>\n<style scoped>\n    .dataframe tbody tr th:only-of-type {\n        vertical-align: middle;\n    }\n\n    .dataframe tbody tr th {\n        vertical-align: top;\n    }\n\n    .dataframe thead th {\n        text-align: right;\n    }\n</style>\n<table border=\"1\" class=\"dataframe\">\n  <thead>\n    <tr style=\"text-align: right;\">\n      <th></th>\n      <th>item_atr</th>\n      <th>item_id</th>\n      <th>item_price</th>\n    </tr>\n  </thead>\n  <tbody>\n    <tr>\n      <td>0</td>\n      <td>NaN</td>\n      <td>a</td>\n      <td>1.0</td>\n    </tr>\n    <tr>\n      <td>1</td>\n      <td>NaN</td>\n      <td>b</td>\n      <td>2.0</td>\n    </tr>\n    <tr>\n      <td>2</td>\n      <td>NaN</td>\n      <td>c</td>\n      <td>3.0</td>\n    </tr>\n    <tr>\n      <td>3</td>\n      <td>NaN</td>\n      <td>b</td>\n      <td>2.0</td>\n    </tr>\n    <tr>\n      <td>4</td>\n      <td>NaN</td>\n      <td>d</td>\n      <td>4.0</td>\n    </tr>\n    <tr>\n      <td>0</td>\n      <td>k1</td>\n      <td>a</td>\n      <td>NaN</td>\n    </tr>\n    <tr>\n      <td>1</td>\n      <td>k2</td>\n      <td>b</td>\n      <td>NaN</td>\n    </tr>\n    <tr>\n      <td>2</td>\n      <td>k3</td>\n      <td>f</td>\n      <td>NaN</td>\n    </tr>\n  </tbody>\n</table>\n</div>"
     },
     "metadata": {},
     "execution_count": 126
    }
   ],
   "source": [
    "pd.concat([first, second])"
   ]
  },
  {
   "cell_type": "code",
   "execution_count": 127,
   "metadata": {},
   "outputs": [
    {
     "output_type": "execute_result",
     "data": {
      "text/plain": [
       "  item_id  item_price item_id item_atr\n",
       "0       a           1       a       k1\n",
       "1       b           2       b       k2\n",
       "2       c           3       f       k3\n",
       "3       b           2     NaN      NaN\n",
       "4       d           4     NaN      NaN"
      ],
      "text/html": "<div>\n<style scoped>\n    .dataframe tbody tr th:only-of-type {\n        vertical-align: middle;\n    }\n\n    .dataframe tbody tr th {\n        vertical-align: top;\n    }\n\n    .dataframe thead th {\n        text-align: right;\n    }\n</style>\n<table border=\"1\" class=\"dataframe\">\n  <thead>\n    <tr style=\"text-align: right;\">\n      <th></th>\n      <th>item_id</th>\n      <th>item_price</th>\n      <th>item_id</th>\n      <th>item_atr</th>\n    </tr>\n  </thead>\n  <tbody>\n    <tr>\n      <td>0</td>\n      <td>a</td>\n      <td>1</td>\n      <td>a</td>\n      <td>k1</td>\n    </tr>\n    <tr>\n      <td>1</td>\n      <td>b</td>\n      <td>2</td>\n      <td>b</td>\n      <td>k2</td>\n    </tr>\n    <tr>\n      <td>2</td>\n      <td>c</td>\n      <td>3</td>\n      <td>f</td>\n      <td>k3</td>\n    </tr>\n    <tr>\n      <td>3</td>\n      <td>b</td>\n      <td>2</td>\n      <td>NaN</td>\n      <td>NaN</td>\n    </tr>\n    <tr>\n      <td>4</td>\n      <td>d</td>\n      <td>4</td>\n      <td>NaN</td>\n      <td>NaN</td>\n    </tr>\n  </tbody>\n</table>\n</div>"
     },
     "metadata": {},
     "execution_count": 127
    }
   ],
   "source": [
    "pd.concat([first, second], axis=1)"
   ]
  },
  {
   "cell_type": "code",
   "execution_count": 128,
   "metadata": {},
   "outputs": [
    {
     "output_type": "execute_result",
     "data": {
      "text/plain": [
       "  item_atr item_id  item_price\n",
       "0      NaN       a         1.0\n",
       "1      NaN       b         2.0\n",
       "2      NaN       c         3.0\n",
       "3      NaN       b         2.0\n",
       "4      NaN       d         4.0\n",
       "0       k1       a         NaN\n",
       "1       k2       b         NaN\n",
       "2       k3       f         NaN"
      ],
      "text/html": "<div>\n<style scoped>\n    .dataframe tbody tr th:only-of-type {\n        vertical-align: middle;\n    }\n\n    .dataframe tbody tr th {\n        vertical-align: top;\n    }\n\n    .dataframe thead th {\n        text-align: right;\n    }\n</style>\n<table border=\"1\" class=\"dataframe\">\n  <thead>\n    <tr style=\"text-align: right;\">\n      <th></th>\n      <th>item_atr</th>\n      <th>item_id</th>\n      <th>item_price</th>\n    </tr>\n  </thead>\n  <tbody>\n    <tr>\n      <td>0</td>\n      <td>NaN</td>\n      <td>a</td>\n      <td>1.0</td>\n    </tr>\n    <tr>\n      <td>1</td>\n      <td>NaN</td>\n      <td>b</td>\n      <td>2.0</td>\n    </tr>\n    <tr>\n      <td>2</td>\n      <td>NaN</td>\n      <td>c</td>\n      <td>3.0</td>\n    </tr>\n    <tr>\n      <td>3</td>\n      <td>NaN</td>\n      <td>b</td>\n      <td>2.0</td>\n    </tr>\n    <tr>\n      <td>4</td>\n      <td>NaN</td>\n      <td>d</td>\n      <td>4.0</td>\n    </tr>\n    <tr>\n      <td>0</td>\n      <td>k1</td>\n      <td>a</td>\n      <td>NaN</td>\n    </tr>\n    <tr>\n      <td>1</td>\n      <td>k2</td>\n      <td>b</td>\n      <td>NaN</td>\n    </tr>\n    <tr>\n      <td>2</td>\n      <td>k3</td>\n      <td>f</td>\n      <td>NaN</td>\n    </tr>\n  </tbody>\n</table>\n</div>"
     },
     "metadata": {},
     "execution_count": 128
    }
   ],
   "source": [
    "pd.concat([first, second], axis=0)"
   ]
  },
  {
   "cell_type": "code",
   "execution_count": 129,
   "metadata": {},
   "outputs": [
    {
     "output_type": "execute_result",
     "data": {
      "text/plain": [
       "  item_id_caller  item_price item_id item_atr\n",
       "0              a           1       a       k1\n",
       "1              b           2       b       k2\n",
       "2              c           3       f       k3\n",
       "3              b           2     NaN      NaN\n",
       "4              d           4     NaN      NaN"
      ],
      "text/html": "<div>\n<style scoped>\n    .dataframe tbody tr th:only-of-type {\n        vertical-align: middle;\n    }\n\n    .dataframe tbody tr th {\n        vertical-align: top;\n    }\n\n    .dataframe thead th {\n        text-align: right;\n    }\n</style>\n<table border=\"1\" class=\"dataframe\">\n  <thead>\n    <tr style=\"text-align: right;\">\n      <th></th>\n      <th>item_id_caller</th>\n      <th>item_price</th>\n      <th>item_id</th>\n      <th>item_atr</th>\n    </tr>\n  </thead>\n  <tbody>\n    <tr>\n      <td>0</td>\n      <td>a</td>\n      <td>1</td>\n      <td>a</td>\n      <td>k1</td>\n    </tr>\n    <tr>\n      <td>1</td>\n      <td>b</td>\n      <td>2</td>\n      <td>b</td>\n      <td>k2</td>\n    </tr>\n    <tr>\n      <td>2</td>\n      <td>c</td>\n      <td>3</td>\n      <td>f</td>\n      <td>k3</td>\n    </tr>\n    <tr>\n      <td>3</td>\n      <td>b</td>\n      <td>2</td>\n      <td>NaN</td>\n      <td>NaN</td>\n    </tr>\n    <tr>\n      <td>4</td>\n      <td>d</td>\n      <td>4</td>\n      <td>NaN</td>\n      <td>NaN</td>\n    </tr>\n  </tbody>\n</table>\n</div>"
     },
     "metadata": {},
     "execution_count": 129
    }
   ],
   "source": [
    "first.join(second, lsuffix='_caller')"
   ]
  },
  {
   "cell_type": "code",
   "execution_count": 130,
   "metadata": {},
   "outputs": [
    {
     "output_type": "execute_result",
     "data": {
      "text/plain": [
       "        item_atr\n",
       "item_id         \n",
       "a             k1\n",
       "b             k2\n",
       "f             k3"
      ],
      "text/html": "<div>\n<style scoped>\n    .dataframe tbody tr th:only-of-type {\n        vertical-align: middle;\n    }\n\n    .dataframe tbody tr th {\n        vertical-align: top;\n    }\n\n    .dataframe thead th {\n        text-align: right;\n    }\n</style>\n<table border=\"1\" class=\"dataframe\">\n  <thead>\n    <tr style=\"text-align: right;\">\n      <th></th>\n      <th>item_atr</th>\n    </tr>\n    <tr>\n      <th>item_id</th>\n      <th></th>\n    </tr>\n  </thead>\n  <tbody>\n    <tr>\n      <td>a</td>\n      <td>k1</td>\n    </tr>\n    <tr>\n      <td>b</td>\n      <td>k2</td>\n    </tr>\n    <tr>\n      <td>f</td>\n      <td>k3</td>\n    </tr>\n  </tbody>\n</table>\n</div>"
     },
     "metadata": {},
     "execution_count": 130
    }
   ],
   "source": [
    "second.set_index('item_id')"
   ]
  },
  {
   "cell_type": "code",
   "execution_count": 131,
   "metadata": {},
   "outputs": [
    {
     "output_type": "execute_result",
     "data": {
      "text/plain": [
       "  item_id  item_price item_atr\n",
       "0       a           1       k1\n",
       "1       b           2       k2\n",
       "2       c           3      NaN\n",
       "3       b           2       k2\n",
       "4       d           4      NaN"
      ],
      "text/html": "<div>\n<style scoped>\n    .dataframe tbody tr th:only-of-type {\n        vertical-align: middle;\n    }\n\n    .dataframe tbody tr th {\n        vertical-align: top;\n    }\n\n    .dataframe thead th {\n        text-align: right;\n    }\n</style>\n<table border=\"1\" class=\"dataframe\">\n  <thead>\n    <tr style=\"text-align: right;\">\n      <th></th>\n      <th>item_id</th>\n      <th>item_price</th>\n      <th>item_atr</th>\n    </tr>\n  </thead>\n  <tbody>\n    <tr>\n      <td>0</td>\n      <td>a</td>\n      <td>1</td>\n      <td>k1</td>\n    </tr>\n    <tr>\n      <td>1</td>\n      <td>b</td>\n      <td>2</td>\n      <td>k2</td>\n    </tr>\n    <tr>\n      <td>2</td>\n      <td>c</td>\n      <td>3</td>\n      <td>NaN</td>\n    </tr>\n    <tr>\n      <td>3</td>\n      <td>b</td>\n      <td>2</td>\n      <td>k2</td>\n    </tr>\n    <tr>\n      <td>4</td>\n      <td>d</td>\n      <td>4</td>\n      <td>NaN</td>\n    </tr>\n  </tbody>\n</table>\n</div>"
     },
     "metadata": {},
     "execution_count": 131
    }
   ],
   "source": [
    "first.join(second.set_index('item_id'), on='item_id')"
   ]
  },
  {
   "cell_type": "code",
   "execution_count": 132,
   "metadata": {},
   "outputs": [
    {
     "output_type": "execute_result",
     "data": {
      "text/plain": [
       "  item_id  item_price item_atr\n",
       "0       a           1       k1\n",
       "1       b           2       k2\n",
       "2       b           2       k2"
      ],
      "text/html": "<div>\n<style scoped>\n    .dataframe tbody tr th:only-of-type {\n        vertical-align: middle;\n    }\n\n    .dataframe tbody tr th {\n        vertical-align: top;\n    }\n\n    .dataframe thead th {\n        text-align: right;\n    }\n</style>\n<table border=\"1\" class=\"dataframe\">\n  <thead>\n    <tr style=\"text-align: right;\">\n      <th></th>\n      <th>item_id</th>\n      <th>item_price</th>\n      <th>item_atr</th>\n    </tr>\n  </thead>\n  <tbody>\n    <tr>\n      <td>0</td>\n      <td>a</td>\n      <td>1</td>\n      <td>k1</td>\n    </tr>\n    <tr>\n      <td>1</td>\n      <td>b</td>\n      <td>2</td>\n      <td>k2</td>\n    </tr>\n    <tr>\n      <td>2</td>\n      <td>b</td>\n      <td>2</td>\n      <td>k2</td>\n    </tr>\n  </tbody>\n</table>\n</div>"
     },
     "metadata": {},
     "execution_count": 132
    }
   ],
   "source": [
    "first.merge(second)"
   ]
  },
  {
   "cell_type": "code",
   "execution_count": 133,
   "metadata": {},
   "outputs": [
    {
     "output_type": "execute_result",
     "data": {
      "text/plain": [
       "  item_id  item_price item_atr\n",
       "0       a           1       k1\n",
       "1       b           2       k2\n",
       "2       b           2       k2"
      ],
      "text/html": "<div>\n<style scoped>\n    .dataframe tbody tr th:only-of-type {\n        vertical-align: middle;\n    }\n\n    .dataframe tbody tr th {\n        vertical-align: top;\n    }\n\n    .dataframe thead th {\n        text-align: right;\n    }\n</style>\n<table border=\"1\" class=\"dataframe\">\n  <thead>\n    <tr style=\"text-align: right;\">\n      <th></th>\n      <th>item_id</th>\n      <th>item_price</th>\n      <th>item_atr</th>\n    </tr>\n  </thead>\n  <tbody>\n    <tr>\n      <td>0</td>\n      <td>a</td>\n      <td>1</td>\n      <td>k1</td>\n    </tr>\n    <tr>\n      <td>1</td>\n      <td>b</td>\n      <td>2</td>\n      <td>k2</td>\n    </tr>\n    <tr>\n      <td>2</td>\n      <td>b</td>\n      <td>2</td>\n      <td>k2</td>\n    </tr>\n  </tbody>\n</table>\n</div>"
     },
     "metadata": {},
     "execution_count": 133
    }
   ],
   "source": [
    "pd.merge(first, second)"
   ]
  },
  {
   "cell_type": "code",
   "execution_count": 134,
   "metadata": {
    "tags": []
   },
   "outputs": [
    {
     "output_type": "stream",
     "name": "stderr",
     "text": [
      "[=====                                                                   ]   7%"
     ]
    }
   ],
   "source": [
    "cnter+=1 \n",
    "bar.update(cnter)"
   ]
  },
  {
   "cell_type": "code",
   "execution_count": 135,
   "metadata": {},
   "outputs": [
    {
     "output_type": "execute_result",
     "data": {
      "text/plain": [
       "3.142"
      ]
     },
     "metadata": {},
     "execution_count": 135
    }
   ],
   "source": [
    "round(3.1415926, 3)"
   ]
  },
  {
   "cell_type": "code",
   "execution_count": 136,
   "metadata": {},
   "outputs": [],
   "source": [
    "third = pd.DataFrame({\n",
    "    'column1': [1, 3, 6, 8],\n",
    "    'column2': ['one', 'two', 'three', 'four'],\n",
    "    'column3': [{'offer id': '9b98b8c7a33c4b65b9aebfe6a799e6d9', 'reward': 5}, {'amount': 8}, {'offer_id': '2906b810c7d4411798c6938adc9daaa5'}, {'reward': 20}]\n",
    "})"
   ]
  },
  {
   "cell_type": "code",
   "execution_count": 137,
   "metadata": {},
   "outputs": [
    {
     "output_type": "execute_result",
     "data": {
      "text/plain": [
       "0    {'offer id': '9b98b8c7a33c4b65b9aebfe6a799e6d9...\n",
       "1                                        {'amount': 8}\n",
       "2     {'offer_id': '2906b810c7d4411798c6938adc9daaa5'}\n",
       "3                                       {'reward': 20}\n",
       "Name: column3, dtype: object"
      ]
     },
     "metadata": {},
     "execution_count": 137
    }
   ],
   "source": [
    "third.column3"
   ]
  },
  {
   "cell_type": "code",
   "execution_count": 138,
   "metadata": {},
   "outputs": [
    {
     "output_type": "execute_result",
     "data": {
      "text/plain": [
       "                           offer id  reward  amount  \\\n",
       "0  9b98b8c7a33c4b65b9aebfe6a799e6d9     5.0     NaN   \n",
       "1                               NaN     NaN     8.0   \n",
       "2                               NaN     NaN     NaN   \n",
       "3                               NaN    20.0     NaN   \n",
       "\n",
       "                           offer_id  \n",
       "0                               NaN  \n",
       "1                               NaN  \n",
       "2  2906b810c7d4411798c6938adc9daaa5  \n",
       "3                               NaN  "
      ],
      "text/html": "<div>\n<style scoped>\n    .dataframe tbody tr th:only-of-type {\n        vertical-align: middle;\n    }\n\n    .dataframe tbody tr th {\n        vertical-align: top;\n    }\n\n    .dataframe thead th {\n        text-align: right;\n    }\n</style>\n<table border=\"1\" class=\"dataframe\">\n  <thead>\n    <tr style=\"text-align: right;\">\n      <th></th>\n      <th>offer id</th>\n      <th>reward</th>\n      <th>amount</th>\n      <th>offer_id</th>\n    </tr>\n  </thead>\n  <tbody>\n    <tr>\n      <td>0</td>\n      <td>9b98b8c7a33c4b65b9aebfe6a799e6d9</td>\n      <td>5.0</td>\n      <td>NaN</td>\n      <td>NaN</td>\n    </tr>\n    <tr>\n      <td>1</td>\n      <td>NaN</td>\n      <td>NaN</td>\n      <td>8.0</td>\n      <td>NaN</td>\n    </tr>\n    <tr>\n      <td>2</td>\n      <td>NaN</td>\n      <td>NaN</td>\n      <td>NaN</td>\n      <td>2906b810c7d4411798c6938adc9daaa5</td>\n    </tr>\n    <tr>\n      <td>3</td>\n      <td>NaN</td>\n      <td>20.0</td>\n      <td>NaN</td>\n      <td>NaN</td>\n    </tr>\n  </tbody>\n</table>\n</div>"
     },
     "metadata": {},
     "execution_count": 138
    }
   ],
   "source": [
    "third.column3.apply(pd.Series)"
   ]
  },
  {
   "cell_type": "code",
   "execution_count": 139,
   "metadata": {},
   "outputs": [
    {
     "output_type": "stream",
     "name": "stderr",
     "text": [
      "[=====                                                                   ]   8%"
     ]
    }
   ],
   "source": [
    "cnter+=1 \n",
    "bar.update(cnter)"
   ]
  },
  {
   "cell_type": "code",
   "execution_count": 140,
   "metadata": {},
   "outputs": [
    {
     "output_type": "execute_result",
     "data": {
      "text/plain": [
       "  name  value\n",
       "0    a      1\n",
       "1    a      2\n",
       "2    a      3\n",
       "3    b      4\n",
       "4    b      5\n",
       "5    c      6"
      ],
      "text/html": "<div>\n<style scoped>\n    .dataframe tbody tr th:only-of-type {\n        vertical-align: middle;\n    }\n\n    .dataframe tbody tr th {\n        vertical-align: top;\n    }\n\n    .dataframe thead th {\n        text-align: right;\n    }\n</style>\n<table border=\"1\" class=\"dataframe\">\n  <thead>\n    <tr style=\"text-align: right;\">\n      <th></th>\n      <th>name</th>\n      <th>value</th>\n    </tr>\n  </thead>\n  <tbody>\n    <tr>\n      <td>0</td>\n      <td>a</td>\n      <td>1</td>\n    </tr>\n    <tr>\n      <td>1</td>\n      <td>a</td>\n      <td>2</td>\n    </tr>\n    <tr>\n      <td>2</td>\n      <td>a</td>\n      <td>3</td>\n    </tr>\n    <tr>\n      <td>3</td>\n      <td>b</td>\n      <td>4</td>\n    </tr>\n    <tr>\n      <td>4</td>\n      <td>b</td>\n      <td>5</td>\n    </tr>\n    <tr>\n      <td>5</td>\n      <td>c</td>\n      <td>6</td>\n    </tr>\n  </tbody>\n</table>\n</div>"
     },
     "metadata": {},
     "execution_count": 140
    }
   ],
   "source": [
    "df = pd.DataFrame({\"name\": [\"a\",\"a\",\"a\",\"b\",\"b\",\"c\"], \"value\": [1,2,3,4,5,6]})\n",
    "df"
   ]
  },
  {
   "cell_type": "code",
   "execution_count": 141,
   "metadata": {},
   "outputs": [
    {
     "output_type": "execute_result",
     "data": {
      "text/plain": [
       "  name  value  value_shift_down\n",
       "0    a      1               NaN\n",
       "1    a      2               1.0\n",
       "2    a      3               2.0\n",
       "3    b      4               NaN\n",
       "4    b      5               4.0\n",
       "5    c      6               NaN"
      ],
      "text/html": "<div>\n<style scoped>\n    .dataframe tbody tr th:only-of-type {\n        vertical-align: middle;\n    }\n\n    .dataframe tbody tr th {\n        vertical-align: top;\n    }\n\n    .dataframe thead th {\n        text-align: right;\n    }\n</style>\n<table border=\"1\" class=\"dataframe\">\n  <thead>\n    <tr style=\"text-align: right;\">\n      <th></th>\n      <th>name</th>\n      <th>value</th>\n      <th>value_shift_down</th>\n    </tr>\n  </thead>\n  <tbody>\n    <tr>\n      <td>0</td>\n      <td>a</td>\n      <td>1</td>\n      <td>NaN</td>\n    </tr>\n    <tr>\n      <td>1</td>\n      <td>a</td>\n      <td>2</td>\n      <td>1.0</td>\n    </tr>\n    <tr>\n      <td>2</td>\n      <td>a</td>\n      <td>3</td>\n      <td>2.0</td>\n    </tr>\n    <tr>\n      <td>3</td>\n      <td>b</td>\n      <td>4</td>\n      <td>NaN</td>\n    </tr>\n    <tr>\n      <td>4</td>\n      <td>b</td>\n      <td>5</td>\n      <td>4.0</td>\n    </tr>\n    <tr>\n      <td>5</td>\n      <td>c</td>\n      <td>6</td>\n      <td>NaN</td>\n    </tr>\n  </tbody>\n</table>\n</div>"
     },
     "metadata": {},
     "execution_count": 141
    }
   ],
   "source": [
    "df['value_shift_down'] = df.groupby('name')['value'].shift()\n",
    "df"
   ]
  },
  {
   "cell_type": "code",
   "execution_count": 142,
   "metadata": {},
   "outputs": [
    {
     "output_type": "execute_result",
     "data": {
      "text/plain": [
       "  name  value  value_shift_down  value_shift_up\n",
       "0    a      1               NaN             2.0\n",
       "1    a      2               1.0             3.0\n",
       "2    a      3               2.0             NaN\n",
       "3    b      4               NaN             5.0\n",
       "4    b      5               4.0             NaN\n",
       "5    c      6               NaN             NaN"
      ],
      "text/html": "<div>\n<style scoped>\n    .dataframe tbody tr th:only-of-type {\n        vertical-align: middle;\n    }\n\n    .dataframe tbody tr th {\n        vertical-align: top;\n    }\n\n    .dataframe thead th {\n        text-align: right;\n    }\n</style>\n<table border=\"1\" class=\"dataframe\">\n  <thead>\n    <tr style=\"text-align: right;\">\n      <th></th>\n      <th>name</th>\n      <th>value</th>\n      <th>value_shift_down</th>\n      <th>value_shift_up</th>\n    </tr>\n  </thead>\n  <tbody>\n    <tr>\n      <td>0</td>\n      <td>a</td>\n      <td>1</td>\n      <td>NaN</td>\n      <td>2.0</td>\n    </tr>\n    <tr>\n      <td>1</td>\n      <td>a</td>\n      <td>2</td>\n      <td>1.0</td>\n      <td>3.0</td>\n    </tr>\n    <tr>\n      <td>2</td>\n      <td>a</td>\n      <td>3</td>\n      <td>2.0</td>\n      <td>NaN</td>\n    </tr>\n    <tr>\n      <td>3</td>\n      <td>b</td>\n      <td>4</td>\n      <td>NaN</td>\n      <td>5.0</td>\n    </tr>\n    <tr>\n      <td>4</td>\n      <td>b</td>\n      <td>5</td>\n      <td>4.0</td>\n      <td>NaN</td>\n    </tr>\n    <tr>\n      <td>5</td>\n      <td>c</td>\n      <td>6</td>\n      <td>NaN</td>\n      <td>NaN</td>\n    </tr>\n  </tbody>\n</table>\n</div>"
     },
     "metadata": {},
     "execution_count": 142
    }
   ],
   "source": [
    "df['value_shift_up'] = df.groupby('name')['value'].shift(-1)\n",
    "df"
   ]
  },
  {
   "cell_type": "code",
   "execution_count": 143,
   "metadata": {},
   "outputs": [
    {
     "output_type": "stream",
     "name": "stderr",
     "text": [
      "[======                                                                  ]   9%"
     ]
    }
   ],
   "source": [
    "cnter+=1 \n",
    "bar.update(cnter)"
   ]
  },
  {
   "cell_type": "code",
   "execution_count": 144,
   "metadata": {},
   "outputs": [
    {
     "output_type": "execute_result",
     "data": {
      "text/plain": [
       "   A    B    C   D     E\n",
       "0  1    a  NaN  12   2.0\n",
       "1  3    b   10  10  45.0\n",
       "2  1  NaN  NaN   2  68.0\n",
       "3  3    d   14  14   NaN\n",
       "4  1    f   35  35  35.0\n",
       "5  3   20    c   c   NaN"
      ],
      "text/html": "<div>\n<style scoped>\n    .dataframe tbody tr th:only-of-type {\n        vertical-align: middle;\n    }\n\n    .dataframe tbody tr th {\n        vertical-align: top;\n    }\n\n    .dataframe thead th {\n        text-align: right;\n    }\n</style>\n<table border=\"1\" class=\"dataframe\">\n  <thead>\n    <tr style=\"text-align: right;\">\n      <th></th>\n      <th>A</th>\n      <th>B</th>\n      <th>C</th>\n      <th>D</th>\n      <th>E</th>\n    </tr>\n  </thead>\n  <tbody>\n    <tr>\n      <td>0</td>\n      <td>1</td>\n      <td>a</td>\n      <td>NaN</td>\n      <td>12</td>\n      <td>2.0</td>\n    </tr>\n    <tr>\n      <td>1</td>\n      <td>3</td>\n      <td>b</td>\n      <td>10</td>\n      <td>10</td>\n      <td>45.0</td>\n    </tr>\n    <tr>\n      <td>2</td>\n      <td>1</td>\n      <td>NaN</td>\n      <td>NaN</td>\n      <td>2</td>\n      <td>68.0</td>\n    </tr>\n    <tr>\n      <td>3</td>\n      <td>3</td>\n      <td>d</td>\n      <td>14</td>\n      <td>14</td>\n      <td>NaN</td>\n    </tr>\n    <tr>\n      <td>4</td>\n      <td>1</td>\n      <td>f</td>\n      <td>35</td>\n      <td>35</td>\n      <td>35.0</td>\n    </tr>\n    <tr>\n      <td>5</td>\n      <td>3</td>\n      <td>20</td>\n      <td>c</td>\n      <td>c</td>\n      <td>NaN</td>\n    </tr>\n  </tbody>\n</table>\n</div>"
     },
     "metadata": {},
     "execution_count": 144
    }
   ],
   "source": [
    "df = pd.DataFrame({\n",
    "    \"A\": [1, 3] * 3,\n",
    "    \"B\": ['a', 'b', np.nan, 'd', 'f', 20],\n",
    "    \"C\": [np.nan, 10, np.nan, 14, 35, 'c'],\n",
    "    \"D\": [12, 10, 2, 14, 35, 'c'],\n",
    "    \"E\": [2, 45, 68, np.nan, 35, np.nan]\n",
    "})\n",
    "df"
   ]
  },
  {
   "cell_type": "code",
   "execution_count": 145,
   "metadata": {},
   "outputs": [
    {
     "output_type": "execute_result",
     "data": {
      "text/plain": [
       "     C   D     E\n",
       "0  NaN  12   2.0\n",
       "1   10  10  45.0\n",
       "2  NaN   2  68.0\n",
       "3   14  14   NaN\n",
       "4   35  35  35.0\n",
       "5    c   c   NaN"
      ],
      "text/html": "<div>\n<style scoped>\n    .dataframe tbody tr th:only-of-type {\n        vertical-align: middle;\n    }\n\n    .dataframe tbody tr th {\n        vertical-align: top;\n    }\n\n    .dataframe thead th {\n        text-align: right;\n    }\n</style>\n<table border=\"1\" class=\"dataframe\">\n  <thead>\n    <tr style=\"text-align: right;\">\n      <th></th>\n      <th>C</th>\n      <th>D</th>\n      <th>E</th>\n    </tr>\n  </thead>\n  <tbody>\n    <tr>\n      <td>0</td>\n      <td>NaN</td>\n      <td>12</td>\n      <td>2.0</td>\n    </tr>\n    <tr>\n      <td>1</td>\n      <td>10</td>\n      <td>10</td>\n      <td>45.0</td>\n    </tr>\n    <tr>\n      <td>2</td>\n      <td>NaN</td>\n      <td>2</td>\n      <td>68.0</td>\n    </tr>\n    <tr>\n      <td>3</td>\n      <td>14</td>\n      <td>14</td>\n      <td>NaN</td>\n    </tr>\n    <tr>\n      <td>4</td>\n      <td>35</td>\n      <td>35</td>\n      <td>35.0</td>\n    </tr>\n    <tr>\n      <td>5</td>\n      <td>c</td>\n      <td>c</td>\n      <td>NaN</td>\n    </tr>\n  </tbody>\n</table>\n</div>"
     },
     "metadata": {},
     "execution_count": 145
    }
   ],
   "source": [
    "df.groupby(['A', 'B']).ffill()"
   ]
  },
  {
   "cell_type": "code",
   "execution_count": 146,
   "metadata": {},
   "outputs": [
    {
     "output_type": "execute_result",
     "data": {
      "text/plain": [
       "   A  B\n",
       "0  1  2\n",
       "1  3  4"
      ],
      "text/html": "<div>\n<style scoped>\n    .dataframe tbody tr th:only-of-type {\n        vertical-align: middle;\n    }\n\n    .dataframe tbody tr th {\n        vertical-align: top;\n    }\n\n    .dataframe thead th {\n        text-align: right;\n    }\n</style>\n<table border=\"1\" class=\"dataframe\">\n  <thead>\n    <tr style=\"text-align: right;\">\n      <th></th>\n      <th>A</th>\n      <th>B</th>\n    </tr>\n  </thead>\n  <tbody>\n    <tr>\n      <td>0</td>\n      <td>1</td>\n      <td>2</td>\n    </tr>\n    <tr>\n      <td>1</td>\n      <td>3</td>\n      <td>4</td>\n    </tr>\n  </tbody>\n</table>\n</div>"
     },
     "metadata": {},
     "execution_count": 146
    }
   ],
   "source": [
    "df = pd.DataFrame([[1, 2], [3, 4]], columns=list('AB'))\n",
    "df"
   ]
  },
  {
   "cell_type": "code",
   "execution_count": 147,
   "metadata": {},
   "outputs": [
    {
     "output_type": "execute_result",
     "data": {
      "text/plain": [
       "   A  B\n",
       "0  5  6\n",
       "1  7  8"
      ],
      "text/html": "<div>\n<style scoped>\n    .dataframe tbody tr th:only-of-type {\n        vertical-align: middle;\n    }\n\n    .dataframe tbody tr th {\n        vertical-align: top;\n    }\n\n    .dataframe thead th {\n        text-align: right;\n    }\n</style>\n<table border=\"1\" class=\"dataframe\">\n  <thead>\n    <tr style=\"text-align: right;\">\n      <th></th>\n      <th>A</th>\n      <th>B</th>\n    </tr>\n  </thead>\n  <tbody>\n    <tr>\n      <td>0</td>\n      <td>5</td>\n      <td>6</td>\n    </tr>\n    <tr>\n      <td>1</td>\n      <td>7</td>\n      <td>8</td>\n    </tr>\n  </tbody>\n</table>\n</div>"
     },
     "metadata": {},
     "execution_count": 147
    }
   ],
   "source": [
    "df2 = pd.DataFrame([[5, 6], [7, 8]], columns=list('AB'))\n",
    "df2"
   ]
  },
  {
   "cell_type": "code",
   "execution_count": 148,
   "metadata": {},
   "outputs": [
    {
     "output_type": "execute_result",
     "data": {
      "text/plain": [
       "   A  B\n",
       "0  1  2\n",
       "1  3  4\n",
       "0  5  6\n",
       "1  7  8"
      ],
      "text/html": "<div>\n<style scoped>\n    .dataframe tbody tr th:only-of-type {\n        vertical-align: middle;\n    }\n\n    .dataframe tbody tr th {\n        vertical-align: top;\n    }\n\n    .dataframe thead th {\n        text-align: right;\n    }\n</style>\n<table border=\"1\" class=\"dataframe\">\n  <thead>\n    <tr style=\"text-align: right;\">\n      <th></th>\n      <th>A</th>\n      <th>B</th>\n    </tr>\n  </thead>\n  <tbody>\n    <tr>\n      <td>0</td>\n      <td>1</td>\n      <td>2</td>\n    </tr>\n    <tr>\n      <td>1</td>\n      <td>3</td>\n      <td>4</td>\n    </tr>\n    <tr>\n      <td>0</td>\n      <td>5</td>\n      <td>6</td>\n    </tr>\n    <tr>\n      <td>1</td>\n      <td>7</td>\n      <td>8</td>\n    </tr>\n  </tbody>\n</table>\n</div>"
     },
     "metadata": {},
     "execution_count": 148
    }
   ],
   "source": [
    "df.append(df2)"
   ]
  },
  {
   "cell_type": "code",
   "execution_count": 149,
   "metadata": {},
   "outputs": [],
   "source": [
    "cnter+=1 \n",
    "bar.update(cnter)"
   ]
  },
  {
   "cell_type": "code",
   "execution_count": 150,
   "metadata": {},
   "outputs": [
    {
     "output_type": "execute_result",
     "data": {
      "text/plain": [
       "   a  b   c\n",
       "0  1  1   1\n",
       "1  2  1   4\n",
       "2  3  2   9\n",
       "3  4  3  16\n",
       "4  5  5  25\n",
       "5  6  8  36"
      ],
      "text/html": "<div>\n<style scoped>\n    .dataframe tbody tr th:only-of-type {\n        vertical-align: middle;\n    }\n\n    .dataframe tbody tr th {\n        vertical-align: top;\n    }\n\n    .dataframe thead th {\n        text-align: right;\n    }\n</style>\n<table border=\"1\" class=\"dataframe\">\n  <thead>\n    <tr style=\"text-align: right;\">\n      <th></th>\n      <th>a</th>\n      <th>b</th>\n      <th>c</th>\n    </tr>\n  </thead>\n  <tbody>\n    <tr>\n      <td>0</td>\n      <td>1</td>\n      <td>1</td>\n      <td>1</td>\n    </tr>\n    <tr>\n      <td>1</td>\n      <td>2</td>\n      <td>1</td>\n      <td>4</td>\n    </tr>\n    <tr>\n      <td>2</td>\n      <td>3</td>\n      <td>2</td>\n      <td>9</td>\n    </tr>\n    <tr>\n      <td>3</td>\n      <td>4</td>\n      <td>3</td>\n      <td>16</td>\n    </tr>\n    <tr>\n      <td>4</td>\n      <td>5</td>\n      <td>5</td>\n      <td>25</td>\n    </tr>\n    <tr>\n      <td>5</td>\n      <td>6</td>\n      <td>8</td>\n      <td>36</td>\n    </tr>\n  </tbody>\n</table>\n</div>"
     },
     "metadata": {},
     "execution_count": 150
    }
   ],
   "source": [
    "df = pd.DataFrame({\n",
    "    'a': [1, 2, 3, 4, 5, 6],\n",
    "    'b': [1, 1, 2, 3, 5, 8],\n",
    "    'c': [1, 4, 9, 16, 25, 36]\n",
    "})\n",
    "df"
   ]
  },
  {
   "cell_type": "code",
   "execution_count": 151,
   "metadata": {},
   "outputs": [
    {
     "output_type": "execute_result",
     "data": {
      "text/plain": [
       "     a    b     c\n",
       "0  NaN  NaN   NaN\n",
       "1  1.0  0.0   3.0\n",
       "2  1.0  1.0   5.0\n",
       "3  1.0  1.0   7.0\n",
       "4  1.0  2.0   9.0\n",
       "5  1.0  3.0  11.0"
      ],
      "text/html": "<div>\n<style scoped>\n    .dataframe tbody tr th:only-of-type {\n        vertical-align: middle;\n    }\n\n    .dataframe tbody tr th {\n        vertical-align: top;\n    }\n\n    .dataframe thead th {\n        text-align: right;\n    }\n</style>\n<table border=\"1\" class=\"dataframe\">\n  <thead>\n    <tr style=\"text-align: right;\">\n      <th></th>\n      <th>a</th>\n      <th>b</th>\n      <th>c</th>\n    </tr>\n  </thead>\n  <tbody>\n    <tr>\n      <td>0</td>\n      <td>NaN</td>\n      <td>NaN</td>\n      <td>NaN</td>\n    </tr>\n    <tr>\n      <td>1</td>\n      <td>1.0</td>\n      <td>0.0</td>\n      <td>3.0</td>\n    </tr>\n    <tr>\n      <td>2</td>\n      <td>1.0</td>\n      <td>1.0</td>\n      <td>5.0</td>\n    </tr>\n    <tr>\n      <td>3</td>\n      <td>1.0</td>\n      <td>1.0</td>\n      <td>7.0</td>\n    </tr>\n    <tr>\n      <td>4</td>\n      <td>1.0</td>\n      <td>2.0</td>\n      <td>9.0</td>\n    </tr>\n    <tr>\n      <td>5</td>\n      <td>1.0</td>\n      <td>3.0</td>\n      <td>11.0</td>\n    </tr>\n  </tbody>\n</table>\n</div>"
     },
     "metadata": {},
     "execution_count": 151
    }
   ],
   "source": [
    "df.diff()"
   ]
  },
  {
   "cell_type": "code",
   "execution_count": 152,
   "metadata": {},
   "outputs": [
    {
     "output_type": "execute_result",
     "data": {
      "text/plain": [
       "     a    b     c\n",
       "0  NaN  NaN   NaN\n",
       "1  1.0  1.0   1.0\n",
       "2  2.0  1.0   4.0\n",
       "3  3.0  2.0   9.0\n",
       "4  4.0  3.0  16.0\n",
       "5  5.0  5.0  25.0"
      ],
      "text/html": "<div>\n<style scoped>\n    .dataframe tbody tr th:only-of-type {\n        vertical-align: middle;\n    }\n\n    .dataframe tbody tr th {\n        vertical-align: top;\n    }\n\n    .dataframe thead th {\n        text-align: right;\n    }\n</style>\n<table border=\"1\" class=\"dataframe\">\n  <thead>\n    <tr style=\"text-align: right;\">\n      <th></th>\n      <th>a</th>\n      <th>b</th>\n      <th>c</th>\n    </tr>\n  </thead>\n  <tbody>\n    <tr>\n      <td>0</td>\n      <td>NaN</td>\n      <td>NaN</td>\n      <td>NaN</td>\n    </tr>\n    <tr>\n      <td>1</td>\n      <td>1.0</td>\n      <td>1.0</td>\n      <td>1.0</td>\n    </tr>\n    <tr>\n      <td>2</td>\n      <td>2.0</td>\n      <td>1.0</td>\n      <td>4.0</td>\n    </tr>\n    <tr>\n      <td>3</td>\n      <td>3.0</td>\n      <td>2.0</td>\n      <td>9.0</td>\n    </tr>\n    <tr>\n      <td>4</td>\n      <td>4.0</td>\n      <td>3.0</td>\n      <td>16.0</td>\n    </tr>\n    <tr>\n      <td>5</td>\n      <td>5.0</td>\n      <td>5.0</td>\n      <td>25.0</td>\n    </tr>\n  </tbody>\n</table>\n</div>"
     },
     "metadata": {},
     "execution_count": 152
    }
   ],
   "source": [
    "df_shift = df.shift(1)\n",
    "df_shift"
   ]
  },
  {
   "cell_type": "code",
   "execution_count": 153,
   "metadata": {},
   "outputs": [
    {
     "output_type": "execute_result",
     "data": {
      "text/plain": [
       "     a    b     c\n",
       "0  NaN  NaN   NaN\n",
       "1  1.0  0.0   3.0\n",
       "2  1.0  1.0   5.0\n",
       "3  1.0  1.0   7.0\n",
       "4  1.0  2.0   9.0\n",
       "5  1.0  3.0  11.0"
      ],
      "text/html": "<div>\n<style scoped>\n    .dataframe tbody tr th:only-of-type {\n        vertical-align: middle;\n    }\n\n    .dataframe tbody tr th {\n        vertical-align: top;\n    }\n\n    .dataframe thead th {\n        text-align: right;\n    }\n</style>\n<table border=\"1\" class=\"dataframe\">\n  <thead>\n    <tr style=\"text-align: right;\">\n      <th></th>\n      <th>a</th>\n      <th>b</th>\n      <th>c</th>\n    </tr>\n  </thead>\n  <tbody>\n    <tr>\n      <td>0</td>\n      <td>NaN</td>\n      <td>NaN</td>\n      <td>NaN</td>\n    </tr>\n    <tr>\n      <td>1</td>\n      <td>1.0</td>\n      <td>0.0</td>\n      <td>3.0</td>\n    </tr>\n    <tr>\n      <td>2</td>\n      <td>1.0</td>\n      <td>1.0</td>\n      <td>5.0</td>\n    </tr>\n    <tr>\n      <td>3</td>\n      <td>1.0</td>\n      <td>1.0</td>\n      <td>7.0</td>\n    </tr>\n    <tr>\n      <td>4</td>\n      <td>1.0</td>\n      <td>2.0</td>\n      <td>9.0</td>\n    </tr>\n    <tr>\n      <td>5</td>\n      <td>1.0</td>\n      <td>3.0</td>\n      <td>11.0</td>\n    </tr>\n  </tbody>\n</table>\n</div>"
     },
     "metadata": {},
     "execution_count": 153
    }
   ],
   "source": [
    "df - df_shift"
   ]
  },
  {
   "cell_type": "code",
   "execution_count": 154,
   "metadata": {},
   "outputs": [
    {
     "output_type": "stream",
     "name": "stderr",
     "text": [
      "[=======                                                                 ]  11%"
     ]
    }
   ],
   "source": [
    "cnter+=1 \n",
    "bar.update(cnter)"
   ]
  },
  {
   "cell_type": "code",
   "execution_count": 155,
   "metadata": {},
   "outputs": [],
   "source": [
    "first = pd.DataFrame({'item_id': ['a','b','c','b','d'], 'item_price': [1,2,3,2,4], 'item_tag': [5, 7, 3, 0, 4]})\n",
    "second = pd.DataFrame({'item_id': ['a','b','f'], 'item_atr': ['k1','k2','k3'], 'item_price': [3, 2, 12]})"
   ]
  },
  {
   "cell_type": "code",
   "execution_count": 156,
   "metadata": {},
   "outputs": [
    {
     "output_type": "execute_result",
     "data": {
      "text/plain": [
       "  item_id  item_price  item_tag\n",
       "0       a           1         5\n",
       "1       b           2         7\n",
       "2       c           3         3\n",
       "3       b           2         0\n",
       "4       d           4         4"
      ],
      "text/html": "<div>\n<style scoped>\n    .dataframe tbody tr th:only-of-type {\n        vertical-align: middle;\n    }\n\n    .dataframe tbody tr th {\n        vertical-align: top;\n    }\n\n    .dataframe thead th {\n        text-align: right;\n    }\n</style>\n<table border=\"1\" class=\"dataframe\">\n  <thead>\n    <tr style=\"text-align: right;\">\n      <th></th>\n      <th>item_id</th>\n      <th>item_price</th>\n      <th>item_tag</th>\n    </tr>\n  </thead>\n  <tbody>\n    <tr>\n      <td>0</td>\n      <td>a</td>\n      <td>1</td>\n      <td>5</td>\n    </tr>\n    <tr>\n      <td>1</td>\n      <td>b</td>\n      <td>2</td>\n      <td>7</td>\n    </tr>\n    <tr>\n      <td>2</td>\n      <td>c</td>\n      <td>3</td>\n      <td>3</td>\n    </tr>\n    <tr>\n      <td>3</td>\n      <td>b</td>\n      <td>2</td>\n      <td>0</td>\n    </tr>\n    <tr>\n      <td>4</td>\n      <td>d</td>\n      <td>4</td>\n      <td>4</td>\n    </tr>\n  </tbody>\n</table>\n</div>"
     },
     "metadata": {},
     "execution_count": 156
    }
   ],
   "source": [
    "first"
   ]
  },
  {
   "cell_type": "code",
   "execution_count": 157,
   "metadata": {},
   "outputs": [
    {
     "output_type": "execute_result",
     "data": {
      "text/plain": [
       "  item_id item_atr  item_price\n",
       "0       a       k1           3\n",
       "1       b       k2           2\n",
       "2       f       k3          12"
      ],
      "text/html": "<div>\n<style scoped>\n    .dataframe tbody tr th:only-of-type {\n        vertical-align: middle;\n    }\n\n    .dataframe tbody tr th {\n        vertical-align: top;\n    }\n\n    .dataframe thead th {\n        text-align: right;\n    }\n</style>\n<table border=\"1\" class=\"dataframe\">\n  <thead>\n    <tr style=\"text-align: right;\">\n      <th></th>\n      <th>item_id</th>\n      <th>item_atr</th>\n      <th>item_price</th>\n    </tr>\n  </thead>\n  <tbody>\n    <tr>\n      <td>0</td>\n      <td>a</td>\n      <td>k1</td>\n      <td>3</td>\n    </tr>\n    <tr>\n      <td>1</td>\n      <td>b</td>\n      <td>k2</td>\n      <td>2</td>\n    </tr>\n    <tr>\n      <td>2</td>\n      <td>f</td>\n      <td>k3</td>\n      <td>12</td>\n    </tr>\n  </tbody>\n</table>\n</div>"
     },
     "metadata": {},
     "execution_count": 157
    }
   ],
   "source": [
    "second"
   ]
  },
  {
   "cell_type": "code",
   "execution_count": 158,
   "metadata": {},
   "outputs": [
    {
     "output_type": "execute_result",
     "data": {
      "text/plain": [
       "  item_id  item_price  item_tag item_atr\n",
       "0       a           1         5      NaN\n",
       "1       b           2         7       k2\n",
       "2       c           3         3      NaN\n",
       "3       b           2         0       k2\n",
       "4       d           4         4      NaN"
      ],
      "text/html": "<div>\n<style scoped>\n    .dataframe tbody tr th:only-of-type {\n        vertical-align: middle;\n    }\n\n    .dataframe tbody tr th {\n        vertical-align: top;\n    }\n\n    .dataframe thead th {\n        text-align: right;\n    }\n</style>\n<table border=\"1\" class=\"dataframe\">\n  <thead>\n    <tr style=\"text-align: right;\">\n      <th></th>\n      <th>item_id</th>\n      <th>item_price</th>\n      <th>item_tag</th>\n      <th>item_atr</th>\n    </tr>\n  </thead>\n  <tbody>\n    <tr>\n      <td>0</td>\n      <td>a</td>\n      <td>1</td>\n      <td>5</td>\n      <td>NaN</td>\n    </tr>\n    <tr>\n      <td>1</td>\n      <td>b</td>\n      <td>2</td>\n      <td>7</td>\n      <td>k2</td>\n    </tr>\n    <tr>\n      <td>2</td>\n      <td>c</td>\n      <td>3</td>\n      <td>3</td>\n      <td>NaN</td>\n    </tr>\n    <tr>\n      <td>3</td>\n      <td>b</td>\n      <td>2</td>\n      <td>0</td>\n      <td>k2</td>\n    </tr>\n    <tr>\n      <td>4</td>\n      <td>d</td>\n      <td>4</td>\n      <td>4</td>\n      <td>NaN</td>\n    </tr>\n  </tbody>\n</table>\n</div>"
     },
     "metadata": {},
     "execution_count": 158
    }
   ],
   "source": [
    "first.merge(second, how='left', on=['item_id', 'item_price'])"
   ]
  },
  {
   "cell_type": "code",
   "execution_count": 159,
   "metadata": {},
   "outputs": [
    {
     "output_type": "execute_result",
     "data": {
      "text/plain": [
       "  item_id  item_price  item_tag item_atr     _merge\n",
       "0       a           1         5      NaN  left_only\n",
       "1       b           2         7       k2       both\n",
       "2       c           3         3      NaN  left_only\n",
       "3       b           2         0       k2       both\n",
       "4       d           4         4      NaN  left_only"
      ],
      "text/html": "<div>\n<style scoped>\n    .dataframe tbody tr th:only-of-type {\n        vertical-align: middle;\n    }\n\n    .dataframe tbody tr th {\n        vertical-align: top;\n    }\n\n    .dataframe thead th {\n        text-align: right;\n    }\n</style>\n<table border=\"1\" class=\"dataframe\">\n  <thead>\n    <tr style=\"text-align: right;\">\n      <th></th>\n      <th>item_id</th>\n      <th>item_price</th>\n      <th>item_tag</th>\n      <th>item_atr</th>\n      <th>_merge</th>\n    </tr>\n  </thead>\n  <tbody>\n    <tr>\n      <td>0</td>\n      <td>a</td>\n      <td>1</td>\n      <td>5</td>\n      <td>NaN</td>\n      <td>left_only</td>\n    </tr>\n    <tr>\n      <td>1</td>\n      <td>b</td>\n      <td>2</td>\n      <td>7</td>\n      <td>k2</td>\n      <td>both</td>\n    </tr>\n    <tr>\n      <td>2</td>\n      <td>c</td>\n      <td>3</td>\n      <td>3</td>\n      <td>NaN</td>\n      <td>left_only</td>\n    </tr>\n    <tr>\n      <td>3</td>\n      <td>b</td>\n      <td>2</td>\n      <td>0</td>\n      <td>k2</td>\n      <td>both</td>\n    </tr>\n    <tr>\n      <td>4</td>\n      <td>d</td>\n      <td>4</td>\n      <td>4</td>\n      <td>NaN</td>\n      <td>left_only</td>\n    </tr>\n  </tbody>\n</table>\n</div>"
     },
     "metadata": {},
     "execution_count": 159
    }
   ],
   "source": [
    "first.merge(second, how='left', on=['item_id', 'item_price'], indicator=True)"
   ]
  },
  {
   "cell_type": "code",
   "execution_count": 160,
   "metadata": {},
   "outputs": [
    {
     "output_type": "execute_result",
     "data": {
      "text/plain": [
       "a    1\n",
       "b    1\n",
       "c    1\n",
       "Name: 0, dtype: int64"
      ]
     },
     "metadata": {},
     "execution_count": 160
    }
   ],
   "source": [
    "df = pd.DataFrame({\n",
    "    'a': [1, 2, 3, 4, 5, 6],\n",
    "    'b': [1, 1, 2, 3, 5, 8],\n",
    "    'c': [1, 4, 9, 16, 25, 36]\n",
    "})\n",
    "df_first = df.iloc[0]\n",
    "df_first"
   ]
  },
  {
   "cell_type": "code",
   "execution_count": 161,
   "metadata": {},
   "outputs": [
    {
     "output_type": "stream",
     "name": "stdout",
     "text": [
      "<class 'numpy.int64'>\n"
     ]
    },
    {
     "output_type": "execute_result",
     "data": {
      "text/plain": [
       "{'df_a': 1, 'df_b': 1, 'df_c': 1}"
      ]
     },
     "metadata": {},
     "execution_count": 161
    }
   ],
   "source": [
    "df_a = df_first['a']\n",
    "print(type(df_a))\n",
    "df_b = df_first['b']\n",
    "df_c = df_first['c']\n",
    "d = dict(df_a=df_a, df_b=df_b, df_c=df_c)\n",
    "d"
   ]
  },
  {
   "cell_type": "code",
   "execution_count": 162,
   "metadata": {},
   "outputs": [
    {
     "output_type": "stream",
     "name": "stderr",
     "text": [
      "[========                                                                ]  12%"
     ]
    }
   ],
   "source": [
    "cnter+=1\n",
    "bar.update(cnter)"
   ]
  },
  {
   "cell_type": "code",
   "execution_count": 163,
   "metadata": {},
   "outputs": [],
   "source": [
    "letter = {}\n",
    "# line = 'China is a Great Country'.upper()\n",
    "line = input().upper()\n",
    "for c in line:\n",
    "    if c.isalpha():\n",
    "        letter[c] = letter.get(c, 0) + 1\n",
    "letterList = sorted(letter.items(), key=lambda x: x[1], reverse=True)\n",
    "\n",
    "for t in letterList:\n",
    "    print(t[0] + ':' + str(t[1]))"
   ]
  },
  {
   "cell_type": "code",
   "execution_count": 165,
   "metadata": {},
   "outputs": [],
   "source": [
    "stud = []\n",
    "item=['name', 'age', 'score']\n",
    "while True:\n",
    "    line = input()\n",
    "    if not line:\n",
    "        break\n",
    "    else:\n",
    "        xs = line.split()\n",
    "        xs[1:] = map(int, xs[1:])\n",
    "        stud.append(dict(zip(item, xs)))\n",
    "temple = \"Name:%(name)-10s Age:%(age)-5d Score:%(score)-5d\"\n",
    "for xs in stud:\n",
    "    print(temple%xs)"
   ]
  },
  {
   "source": [
    "已知a,b,c中存有1000以内被3,5,7整除的整数，试求1000以内 Q1：能被3且不能被5整除的数的个数，Q2：能被3和5整除但不能被7整除的数的个数，Q3：能被3或5整除，且同时能被7整除的数的个数。"
   ],
   "cell_type": "markdown",
   "metadata": {}
  },
  {
   "cell_type": "code",
   "execution_count": 178,
   "metadata": {},
   "outputs": [
    {
     "output_type": "stream",
     "name": "stdout",
     "text": [
      "Q1:267\nQ2:57\nQ3:67\n"
     ]
    }
   ],
   "source": [
    "a = {i for i in range(0, 1000, 3)}\n",
    "b = {i for i in range(0, 1000, 5)}\n",
    "c = {i for i in range(0, 1000, 7)}\n",
    "print(\"Q1:\" + str(len([x for x in a - b])))\n",
    "print(\"Q2:\" + str(len([x for x in a & b - c])))\n",
    "print(\"Q3:\" + str(len([x for x in (a | b) & c])))"
   ]
  },
  {
   "cell_type": "code",
   "execution_count": 167,
   "metadata": {},
   "outputs": [
    {
     "output_type": "stream",
     "name": "stderr",
     "text": [
      "[=========                                                               ]  13%"
     ]
    }
   ],
   "source": [
    "cnter+=1\n",
    "bar.update(cnter)"
   ]
  },
  {
   "cell_type": "code",
   "execution_count": null,
   "metadata": {},
   "outputs": [],
   "source": []
  },
  {
   "cell_type": "code",
   "execution_count": null,
   "metadata": {},
   "outputs": [],
   "source": []
  },
  {
   "cell_type": "code",
   "execution_count": null,
   "metadata": {},
   "outputs": [],
   "source": []
  },
  {
   "cell_type": "code",
   "execution_count": 168,
   "metadata": {
    "tags": []
   },
   "outputs": [
    {
     "output_type": "stream",
     "name": "stderr",
     "text": [
      "[========================================================================] 100%\n"
     ]
    }
   ],
   "source": [
    "bar.finish()"
   ]
  }
 ],
 "metadata": {
  "kernelspec": {
   "name": "python3",
   "display_name": "Python 3.7.4 64-bit (conda)",
   "metadata": {
    "interpreter": {
     "hash": "a8f61be024eba58adef938c9aa1e29e02cb3dece83a5348b1a2dafd16a070453"
    }
   }
  },
  "language_info": {
   "codemirror_mode": {
    "name": "ipython",
    "version": 2
   },
   "file_extension": ".py",
   "mimetype": "text/x-python",
   "name": "python",
   "nbconvert_exporter": "python",
   "pygments_lexer": "ipython2",
   "version": "3.7.4-final"
  }
 },
 "nbformat": 4,
 "nbformat_minor": 0
}